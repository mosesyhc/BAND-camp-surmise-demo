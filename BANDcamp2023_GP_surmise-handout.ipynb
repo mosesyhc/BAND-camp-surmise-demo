{
  "nbformat": 4,
  "nbformat_minor": 0,
  "metadata": {
    "colab": {
      "provenance": [],
      "authorship_tag": "ABX9TyOF9HbXOKnHvA1OzWAecr1Y",
      "include_colab_link": true
    },
    "kernelspec": {
      "name": "python3",
      "display_name": "Python 3"
    },
    "language_info": {
      "name": "python"
    }
  },
  "cells": [
    {
      "cell_type": "markdown",
      "metadata": {
        "id": "view-in-github",
        "colab_type": "text"
      },
      "source": [
        "<a href=\"https://colab.research.google.com/github/mosesyhc/BAND-camp-surmise-demo/blob/main/BANDcamp2023_GP_surmise-handout.ipynb\" target=\"_parent\"><img src=\"https://colab.research.google.com/assets/colab-badge.svg\" alt=\"Open In Colab\"/></a>"
      ]
    },
    {
      "cell_type": "markdown",
      "source": [
        "# **Gaussian processes in emulation and calibration using `surmise`**\n",
        "\n",
        "This notebook covers the basics of Gaussian processes and their usage in emulation and calibration.  Three examples are presented to perform emulation and calibration tasks using the Python package `surmise`.\n",
        "$\\newcommand{\\T}{\\mathsf{T}}$"
      ],
      "metadata": {
        "id": "Zo4CtrS8a5X6"
      }
    },
    {
      "cell_type": "markdown",
      "source": [
        "## **Emulation**\n",
        "Consider some expensive simulation code $f(x, \\theta)$ that takes $x$ and $\\theta$ and returns its output.\n",
        "\n",
        "The terminologies we general use are:\n",
        "- **Parameter** $(\\theta)$ contains any quantities of interest for calibration.\n",
        "- **Input** $(x)$ contains other controllable inputs.\n",
        "\n",
        "### **Key Idea**\n",
        "If $f$ is considerably expensive to run, we would like to build a *faster* emulator that can\n",
        "1. **predict at unsimulated parameters**, given the outputs from the simulated parameters, and \n",
        "2. **provide uncertainty** around these predictions.\n",
        "\n",
        "A Gaussian process (GP) is one choice that can achieve both goals naturally.  We assume that $f$ follows a Gaussian process and use a set of simulated outputs to build an emulator for $f$.\n",
        "\n",
        "### **Setting and data**\n",
        "The data we need are the simulation outputs from the model, for example, \n",
        "$$ \\mathbf{f} = (f(x, \\theta_1), f(x, \\theta_2), ..., f(x, \\theta_n))^\\mathsf{T}. $$\n",
        "\n",
        "### **Emulation with Gaussian process**\n",
        "A (univariate) GP assumes any finite collection of $n$ variables follows a multivariate normal distribution specified by a mean function $\\mu(\\cdot)$ and a covariance function $c(\\cdot, \\cdot)$,\n",
        "$$   \\mathbf{f} \\sim \\mathsf{N}(\\boldsymbol \\mu, C), $$\n",
        "where \n",
        "\\begin{align*}\n",
        "  \\boldsymbol \\mu = \\begin{pmatrix}\n",
        "    \\mu(\\theta_1) \\\\ \\vdots \\\\ \\mu(\\theta_n)\n",
        "  \\end{pmatrix},  &\\quad \n",
        "  C = \\begin{pmatrix}\n",
        "    c(\\theta_1, \\theta_1) & \\ldots & c(\\theta_1, \\theta_n) \\\\\n",
        "    \\vdots & \\ddots & \\vdots \\\\\n",
        "    c(\\theta_n, \\theta_1) & \\ldots & c(\\theta_n, \\theta_n)\n",
        "  \\end{pmatrix}.\n",
        "\\end{align*}\n",
        "\n",
        "This is basically all we need to build the emulator for $f(\\theta)$, at any unsimulated parameter $\\theta$.\n",
        "\n",
        "Conditioning on the simulated outputs, our emulator is, \n",
        "$$ f(\\theta) ~|~ \\mathbf{f} \\sim \\mathsf{N}(\\hat{\\mu}(\\theta), \\hat{\\sigma}^2(\\theta)),$$\n",
        "\n",
        "Aligning with the goals of an emulator: \n",
        "1. **Prediction** \n",
        "$$ \\hat{\\mu}(\\theta) = \\mu(\\theta) + \\boldsymbol c(\\theta)^\\T C^{-1} (\\mathbf{f} - \\boldsymbol \\mu), $$ \n",
        "2. **Uncertainty quantification**\n",
        "$$ \\hat{\\sigma}^2(\\theta) = c(\\theta, \\theta) - \\boldsymbol c(\\theta)^\\T C^{-1} \\boldsymbol c(\\theta),$$\n",
        "where $\\boldsymbol c(\\theta) = (c(\\theta, \\theta_1), \\ldots c(\\theta, \\theta_n))^\\T$.\n",
        "\n",
        "---\n",
        "\n"
      ],
      "metadata": {
        "id": "kezR5a9jg36f"
      }
    },
    {
      "cell_type": "code",
      "source": [
        "#@title Basic Python libraries import\n",
        "# Import numpy and plotting libraries\n",
        "import numpy as np\n",
        "import matplotlib.pyplot as plt\n",
        "plt.style.use('seaborn-v0_8-colorblind')\n",
        "plt.rcParams[\"mathtext.fontset\"] = \"dejavuserif\""
      ],
      "metadata": {
        "id": "-pmbKrxP5MxE"
      },
      "execution_count": null,
      "outputs": []
    },
    {
      "cell_type": "code",
      "execution_count": null,
      "metadata": {
        "id": "SJ6CuAkxZKJV"
      },
      "outputs": [],
      "source": [
        "#@title Ball drop model \n",
        "def ball_drop(t, h, k, g):\n",
        "    \"\"\"\n",
        "    Calculates the location of a ball dropped from a height h with initial velocity 0,\n",
        "    accounting for air resistance with drag coefficient k and mass 1, at time t.\n",
        "\n",
        "    Args:\n",
        "    t (float or array of floats): time since the ball was dropped\n",
        "    h (float): initial height of the ball above the ground\n",
        "    k (float): drag coefficient\n",
        "    g (float): gravitational constant\n",
        "\n",
        "    Returns:\n",
        "    float or array of floats: the location of the ball at time t\n",
        "    \"\"\"\n",
        "    \n",
        "    def logcosh(z):\n",
        "        # preventing crashing\n",
        "        s = np.sign(z) * z\n",
        "        p = np.exp(-2 * s)\n",
        "        return s + np.log1p(p) - np.log(2)\n",
        "    \n",
        "    # Calculate terminal velocity using V = sqrt(g / k)\n",
        "    vt = np.sqrt(g / k)\n",
        "\n",
        "    # Calculate the location as a function of time\n",
        "    f = h - (vt ** 2) / g * logcosh(g * t / vt)\n",
        "\n",
        "    # Return the location at time t\n",
        "    return f"
      ]
    },
    {
      "cell_type": "code",
      "source": [
        "#@title Ball drop model parameterized with `x, theta`\n",
        "def ball_drop_xt(x, theta):\n",
        "    \"\"\"\n",
        "    Wraps ball_drop(t, h, k, g) treating x as inputs and theta as parameters, \n",
        "    i.e.,   \n",
        "      x = (t, h), theta = (k, g).\n",
        "\n",
        "    Returns:\n",
        "      array of floats: a |x| by |theta| matrix containing prediction for each (x, theta) pair.\n",
        "    \"\"\"\n",
        "    assert x.ndim == 2\n",
        "    assert theta.ndim == 2\n",
        "\n",
        "    fpred = np.full(shape=(x.shape[0], theta.shape[0]), fill_value=np.nan)\n",
        "\n",
        "    for i in range(x.shape[0]):\n",
        "      for j in range(theta.shape[0]):\n",
        "        fpred[i, j] = ball_drop(t=x[i, 0], h=x[i, 1], k=theta[j, 0], g=theta[j, 1])\n",
        "\n",
        "    return fpred"
      ],
      "metadata": {
        "id": "RP6Vzi4iGQTT"
      },
      "execution_count": null,
      "outputs": []
    },
    {
      "cell_type": "markdown",
      "source": [
        "### Visualizing the model a little\n",
        "\n",
        "Suppose we know the reasonable ranges for the drag coefficient (`k`) and gravitational constant (`g`):\n",
        "$$ k \\in [0.001, 0.5], \\quad g \\in [5, 40]. $$\n",
        "\n",
        "*Note: this provides the basis for selection of the **prior** distribution later.*"
      ],
      "metadata": {
        "id": "3V8BJcZp343V"
      }
    },
    {
      "cell_type": "code",
      "source": [
        "# time points to evaluate this function\n",
        "t = np.linspace(0, 3, 100)\n",
        "# initial height\n",
        "h = 50\n",
        "\n",
        "kL, kU = (0.001, 0.5)\n",
        "gL, gU = (5, 40)\n",
        "\n",
        "# randomly guess 100 parameters\n",
        "n = 100\n",
        "kvec = np.random.uniform(kL, kU, n)\n",
        "gvec = np.random.uniform(gL, gU, n)\n",
        "\n",
        "plt.figure(figsize=(5, 5))\n",
        "for i in range(n):\n",
        "  f_pred = ball_drop(t, h, kvec[i], gvec[i])\n",
        "  plt.plot(t, f_pred, 'k', alpha=0.1)\n",
        "plt.ylabel('$f$')\n",
        "plt.xlabel('$t$')\n",
        "plt.show()"
      ],
      "metadata": {
        "id": "hX_pd79L7eoo"
      },
      "execution_count": null,
      "outputs": []
    },
    {
      "cell_type": "markdown",
      "source": [
        "### Suppose for now we observe only at one input `(t=2.5, h=50)`, but with several values of (`k`, `g`)"
      ],
      "metadata": {
        "id": "ZulMx6BOVDW2"
      }
    },
    {
      "cell_type": "code",
      "source": [
        "#@markdown **Single location output**\n",
        "\n",
        "# we had to make sure x is at least 2d\n",
        "xvec = np.array([(2.5, 50)])  \n",
        "kvec = np.linspace(0.05, 0.45, 6) \n",
        "gvec = np.linspace(5, 30, 8)\n",
        "\n",
        "# we have to make sure theta is at least 2d\n",
        "thetavec = np.array(np.meshgrid(kvec, gvec)).T.reshape(-1, 2)  \n",
        "\n",
        "# collect simulation data\n",
        "f = ball_drop_xt(xvec, thetavec)"
      ],
      "metadata": {
        "id": "ibhqrH4AIF5t"
      },
      "execution_count": null,
      "outputs": []
    },
    {
      "cell_type": "code",
      "source": [
        "plt.figure(figsize=(5, 5))\n",
        "plt.scatter(np.repeat(xvec[:, 0], thetavec.shape[0]), f, \n",
        "            marker='x', s=75, color='b', alpha=0.5)\n",
        "plt.xlabel('$t$')\n",
        "_ = plt.ylabel('$f$')"
      ],
      "metadata": {
        "id": "q3RKUbgHLmsg"
      },
      "execution_count": null,
      "outputs": []
    },
    {
      "cell_type": "markdown",
      "source": [
        "## `surmise`"
      ],
      "metadata": {
        "id": "0MtQf3vMVWpt"
      }
    },
    {
      "cell_type": "code",
      "source": [
        "#@title **Installation**\n",
        "!pip install surmise"
      ],
      "metadata": {
        "id": "JlNB547oRuwp"
      },
      "execution_count": null,
      "outputs": []
    },
    {
      "cell_type": "code",
      "source": [
        "#@title **Build emulator with `surmise` with `emulator` module**\n",
        "from surmise.emulation import emulator\n",
        "\n",
        "emu_balldrop = emulator(x=xvec, theta=thetavec, f=f,\n",
        "                        args={'warnings': True})\n"
      ],
      "metadata": {
        "id": "B3ZPxCTVRkhL"
      },
      "execution_count": null,
      "outputs": []
    },
    {
      "cell_type": "code",
      "source": [
        "#@title Predict with emulator prediction object, `emu.predict()`\n",
        "nk = 30\n",
        "ng = 50\n",
        "\n",
        "# predict at many parameters\n",
        "kvec_test = np.linspace(kL, kU, nk)\n",
        "gvec_test = np.linspace(gL, gU, ng)\n",
        "\n",
        "K, G = np.meshgrid(kvec_test, gvec_test)\n",
        "thetavec_test = np.array((K, G)).T.reshape(-1, 2)"
      ],
      "metadata": {
        "id": "v2jOC5pTX4BS"
      },
      "execution_count": null,
      "outputs": []
    },
    {
      "cell_type": "code",
      "source": [
        "#@markdown *Note:* `emu.predict()` returns a prediction object!\n",
        "fpredobj = emu_balldrop.predict(x=xvec, theta=thetavec_test)  \n",
        "\n",
        "# access the means and variances at the parameters\n",
        "fpredmean = fpredobj.mean()\n",
        "fpredvar = fpredobj.var()"
      ],
      "metadata": {
        "id": "co0cLS9YaZFS"
      },
      "execution_count": null,
      "outputs": []
    },
    {
      "cell_type": "code",
      "source": [
        "#@title plotting aid functions\n",
        "def plot_emulator_prediction(mean_or_var, theta, your_title=''):\n",
        "  # example usage: plot_emulator_prediction(fpredmean, theta)\n",
        "  nK = np.unique(theta[:, 0]).shape[0]\n",
        "  nG = np.unique(theta[:, 1]).shape[0]\n",
        "\n",
        "  mvT = mean_or_var.reshape(nK, nG).T\n",
        "\n",
        "  K, G = theta.reshape(nK, nG, 2).T\n",
        "\n",
        "  fig = plt.figure(figsize=(10, 4))\n",
        "\n",
        "  ax1 = fig.add_subplot(1, 2, 1, projection='3d')\n",
        "  surf = ax1.plot_surface(K, G, mvT, cmap='bone')\n",
        "  ax1.view_init(10, 105)\n",
        "  ax1.set_xlabel('drag coef., $k$')\n",
        "  ax1.set_ylabel('grav. const., $g$')\n",
        "  ax1.set_zlabel('location')\n",
        "\n",
        "  ax2 = fig.add_subplot(1, 2, 2)\n",
        "  contour = ax2.contour(K, G, mvT, cmap='bone')\n",
        "  ax2.clabel(contour, contour.levels, colors='k', inline=True, fontsize=12)\n",
        "  ax2.invert_xaxis()\n",
        "  ax2.invert_yaxis()\n",
        "  ax2.set_xlabel('drag coefficient, $k$')\n",
        "  ax2.set_ylabel('gravitational constant, $g$')\n",
        "  plt.subplots_adjust(wspace=0.3)\n",
        "  _ = plt.suptitle('{:s} at $t=2.5$s, initial height $h=50$'.format(your_title))"
      ],
      "metadata": {
        "id": "asLIPzTIY0ak"
      },
      "execution_count": null,
      "outputs": []
    },
    {
      "cell_type": "code",
      "source": [
        "#@title <a name=\"prediction-plot\"></a> How does the emulator predict across the parameter space?\n",
        "plot_emulator_prediction(fpredmean, thetavec_test, 'Predicted ball location')"
      ],
      "metadata": {
        "id": "Ey0PiXFDdwGD"
      },
      "execution_count": null,
      "outputs": []
    },
    {
      "cell_type": "code",
      "source": [
        "#@title What does the uncertainty look like?\n",
        "plot_emulator_prediction(np.sqrt(fpredvar), thetavec_test, 'Predicted standard deviation')"
      ],
      "metadata": {
        "id": "SGKdPNzF0IYB"
      },
      "execution_count": null,
      "outputs": []
    },
    {
      "cell_type": "code",
      "source": [
        "#@title Marginal plots (if you are interested)\n",
        "\n",
        "fig, ax = plt.subplots(1, 2, sharey=True, figsize=(8, 5))\n",
        "_ = ax[0].plot(kvec_test, fpredmean.reshape(nk, ng), 'b', alpha=0.5)\n",
        "_ = ax[1].plot(gvec_test, fpredmean.reshape(nk, ng).T, 'm', alpha=0.5)\n",
        "\n",
        "ax[0].set_xlabel('drag coefficient, $k$')\n",
        "ax[0].set_ylabel('ball location')\n",
        "ax[1].set_xlabel('gravitational constant, $g$')\n",
        "plt.suptitle('Ball location at $t=2.5$s, initial height $h=50$')\n",
        "plt.tight_layout()\n",
        "plt.show()\n"
      ],
      "metadata": {
        "id": "QdpuSwS5blbe"
      },
      "execution_count": null,
      "outputs": []
    },
    {
      "cell_type": "markdown",
      "source": [
        "---\n",
        "\n",
        "**What have we achieved so far?**\n",
        "\n",
        "We build an emulator for a single *time point*, and we are able to predict at any reasonable parameter.\n",
        "\n",
        "---"
      ],
      "metadata": {
        "id": "JwyF4w3nzO-r"
      }
    },
    {
      "cell_type": "markdown",
      "source": [
        "**But can't we observe more than one time points?** \n",
        "\n",
        "**Can't we drop the ball at different heights?**\n",
        "\n",
        "Yes and yes. \n",
        "\n",
        "---"
      ],
      "metadata": {
        "id": "l2LUVAFJakSM"
      }
    },
    {
      "cell_type": "markdown",
      "source": [
        "## Emulator for multiple outputs"
      ],
      "metadata": {
        "id": "k7Tbkr2RPxx5"
      }
    },
    {
      "cell_type": "code",
      "source": [
        "#@title **(Exercise)** Generate simulation data for multiple inputs\n",
        "\n",
        "# set up multiple inputs\n",
        "tvec = np.array((0.1, 0.5, 1.4, 2.5))\n",
        "hvec = np.array((25, 50, 100))\n",
        "\n",
        "T, H = np.meshgrid(tvec, hvec)\n",
        "xvec_multi = np.array((T, H)).T.reshape(-1, 2)\n",
        "\n",
        "# run the simulation at these inputs and the same parameters\n",
        "fmat = ball_drop_xt(x=xvec_multi, theta=thetavec)"
      ],
      "metadata": {
        "id": "SzqMPkN5LGrS"
      },
      "execution_count": null,
      "outputs": []
    },
    {
      "cell_type": "code",
      "source": [
        "#@title **(Exercise)** What is the dimension of the output? What does each dimension correspond?\n"
      ],
      "metadata": {
        "id": "iyuI52D5Ps_E"
      },
      "execution_count": null,
      "outputs": []
    },
    {
      "cell_type": "code",
      "source": [
        "#@title **(Exercise)** Create a scatter plot of the simulation data against $t$.\n"
      ],
      "metadata": {
        "id": "pJ0rm-kvQID4"
      },
      "execution_count": null,
      "outputs": []
    },
    {
      "cell_type": "code",
      "source": [
        "#@title **(Exercise)** Build an emulator using `surmise`.  \n",
        "#@markdown *Note:* `surmise` can handle emulation with multiple outputs.  It uses a popular method called Principal Component Gaussian Process (PCGP).  We will look at how it works in a moment, but let's first build the emulator!\n"
      ],
      "metadata": {
        "id": "MxF80P32RNj1"
      },
      "execution_count": null,
      "outputs": []
    },
    {
      "cell_type": "code",
      "source": [
        "#@title **(Exercise)** Predict the output at $(t=2.5, h=50)$. \n",
        "\n",
        "\n",
        "# This tells you which row index correspond to (t=2.5, h=50)\n",
        "where_match = np.where((xvec_multi==(2.5, 50)).all(axis=1))[0][0]\n"
      ],
      "metadata": {
        "id": "tEcNp5uUSyzL"
      },
      "execution_count": null,
      "outputs": []
    },
    {
      "cell_type": "code",
      "source": [
        "#@title **(Exercise)** Visualize the prediction and its uncertainty."
      ],
      "metadata": {
        "id": "eK0GI0VGTgLr"
      },
      "execution_count": null,
      "outputs": []
    },
    {
      "cell_type": "markdown",
      "source": [
        "---\n",
        "\n",
        "### Principal component Gaussian Process (PCGP)\n",
        "Now the simulation output is multivariate, say for each parameter, there is a response at each of the $m$ inputs: \n",
        "$$ \\boldsymbol f(\\theta) = (f(x_1, \\theta), \\ldots, f(x_m, \\theta))^\\T. $$\n",
        "\n",
        "Principal component Gaussian process models the multivariate output as \n",
        "$$ \\boldsymbol f(\\theta) \\approx \\Phi \\boldsymbol  g(\\theta), \\quad \\Phi^\\T\\Phi = \\mathrm{diag}(\\lambda_1, \\ldots, \\lambda_\\kappa)$$\n",
        "and \n",
        "$$ g_k(\\cdot) \\sim \\mathsf{GP}(0, c_k(\\cdot,\\cdot)), k=1,\\ldots,\\kappa. $$\n",
        "\n",
        "If we put all simulation output together into a matrix $\\mathbf{F}_{m\\times n}$, \n",
        "\n",
        "Then the emulator becomes\n",
        "$$ \\boldsymbol f(\\theta)~|~ \\mathbf{F} \\sim \\mathsf{N}(\\hat{\\boldsymbol \\mu}_f(\\theta), \\hat{\\Sigma}_f(\\theta)), $$\n",
        "\n",
        "$$ \\hat{\\boldsymbol \\mu}_f(\\theta) = \\Phi(\\hat{\\mu}_1(\\theta), \\ldots, \\hat{\\mu}_\\kappa(\\theta))^\\T, \\quad \\hat{\\Sigma}_f(\\theta) = \\Phi \\mathrm{diag}(\\hat{\\sigma}^2_1(\\theta), \\ldots, \\hat{\\sigma}^2_\\kappa(\\theta))\\Phi^\\T.$$\n",
        "\n",
        "---"
      ],
      "metadata": {
        "id": "uFHHMxFKUK7u"
      }
    },
    {
      "cell_type": "markdown",
      "source": [
        "## **Calibration**\n",
        "Calibration refers to choosing a set of parameters so that the simulation model aligns well with what we observe in the physical system.\n",
        "\n",
        "We believe that the physical system is modeled by the simulation model\n",
        "$$ \\boldsymbol y = \\boldsymbol f(\\theta) + \\epsilon, \\quad  \\epsilon \\sim \\mathsf{N}(0, \\Sigma_\\epsilon), $$\n",
        "but we need to determine what parameter values aligns the simulation model and the data.\n",
        "\n",
        "### **Gentle reminder of Bayesian statistics**\n",
        "After we observe some physical data $y$, (in this case, go outside, grab a ball and drop it at $h=50$ and observe its location after $t=2.5$s.)\n",
        "\n",
        "We will try to guess, given the physical data, what parameter values are more likely, using\n",
        "\n",
        "$$\\underbrace{p(\\theta~|~\\boldsymbol y)}_{\\rm posterior} \\propto \\underbrace{p(\\boldsymbol y~|~\\theta)}_{\\rm likelihood}~\\underbrace{p(\\theta)}_{\\rm prior}.$$\n",
        "\n",
        "**Example**: In the single location example, say you actually dropped a ball at $h=50$ and observed its location after $t=2.5$s, you recorded that $y = 20$. What can you say about the parameters? [*Recall* the prediction plot from earlier.](#prediction-plot)"
      ],
      "metadata": {
        "id": "D63JQtiu2H4p"
      }
    },
    {
      "cell_type": "markdown",
      "source": [
        "**(Optional) Details on the likelihood**\n",
        "\n",
        "What is the likelihood $p(\\boldsymbol y~|~\\theta)$?\n",
        "\n",
        "**Only with simulation model:**\n",
        "\n",
        "If the simulation model is directly used, assuming a multivariate normal distribution, then\n",
        "$$p(\\boldsymbol y~|~\\theta) = (2\\pi)^{-\\frac{m}{2}} |\\Sigma_\\epsilon|^{-\\frac{1}{2}} \\exp\\left\\{-\\frac{1}{2} (\\boldsymbol y - \\boldsymbol f(\\theta))^\\T \\Sigma_\\epsilon^{-1} (\\boldsymbol y - \\boldsymbol f(\\theta)) \\right\\}. $$\n",
        "\n",
        "**Simulation model with emulator:**\n",
        "\n",
        "If a GP emulator is used, then \n",
        "$$p(\\boldsymbol y~|~\\theta) = (2\\pi)^{-\\frac{m}{2}} |\\Sigma_\\epsilon + \\Sigma_f(\\theta)|^{-\\frac{1}{2}} \\exp\\left\\{-\\frac{1}{2} (\\boldsymbol y - \\boldsymbol f(\\theta))^\\T (\\Sigma_\\epsilon + \\Sigma_f(\\theta))^{-1} (\\boldsymbol y - \\boldsymbol f(\\theta)) \\right\\}. $$"
      ],
      "metadata": {
        "id": "EltaYOURRwLb"
      }
    },
    {
      "cell_type": "markdown",
      "source": [
        "### **Physical data**\n",
        "\n",
        "Now suppose you are handed some physical data from an extra-terrestrial being, asking for help to understand their planet...\n",
        "\n",
        "Surprisingly they also use the same time and distance units... you think your current simulation model could work."
      ],
      "metadata": {
        "id": "Qp1MOv7FWO-d"
      }
    },
    {
      "cell_type": "code",
      "source": [
        "#@title This is the data they handed us.\n",
        "# The inputs are given to us as:\n",
        "tvec_et = np.array((1, 1.414, 1.732, 2.236, 2.645, 3))\n",
        "hvec_et = np.array((7, 14, 21, 28, 35))\n",
        "\n",
        "Tet, Het = np.meshgrid(tvec_et, hvec_et)\n",
        "xvec_et = np.array((Tet, Het)).T.reshape(-1, 2)\n",
        "\n",
        "# The outputs are given to us as:\n",
        "y = np.array([[  2.6795721 ],\n",
        "       [ 11.29917315],\n",
        "       [ 16.75635225],\n",
        "       [ 25.50902197],\n",
        "       [ 31.68670446],\n",
        "       [  1.36272669],\n",
        "       [  5.00726961],\n",
        "       [ 14.20124892],\n",
        "       [ 21.70062911],\n",
        "       [ 28.97993106],\n",
        "       [ -1.3928248 ],\n",
        "       [  7.91004077],\n",
        "       [ 11.83250397],\n",
        "       [ 21.14746178],\n",
        "       [ 28.38791665],\n",
        "       [ -3.55554223],\n",
        "       [  4.37518697],\n",
        "       [  8.11264007],\n",
        "       [ 17.25218299],\n",
        "       [ 23.34185996],\n",
        "       [ -9.05673834],\n",
        "       [ -1.77144211],\n",
        "       [  6.47887829],\n",
        "       [ 12.8869224 ],\n",
        "       [ 21.13895916],\n",
        "       [-10.48741053],\n",
        "       [ -4.03449921],\n",
        "       [  1.12235881],\n",
        "       [ 10.48067863],\n",
        "       [ 15.41933186]]).squeeze()\n",
        "yvar = np.ones_like(y)"
      ],
      "metadata": {
        "id": "nYgFz6xhdwyS"
      },
      "execution_count": null,
      "outputs": []
    },
    {
      "cell_type": "markdown",
      "source": [
        "### Here is our task: \n",
        "\n",
        "Each of us will attempt to build an emulator. We will come back to calibrate our models together and see what our guesses look like."
      ],
      "metadata": {
        "id": "gOfuU3TFgMvy"
      }
    },
    {
      "cell_type": "code",
      "source": [
        "#@title **(Exercise)** Build an emulator for these inputs. Feel free to pick your own set of parameters. Remember, you have to generate a new set of `fmat`.\n"
      ],
      "metadata": {
        "id": "x9UnXneqf2KR"
      },
      "execution_count": null,
      "outputs": []
    },
    {
      "cell_type": "code",
      "source": [
        "#@title **(Exercise)** Check the prediction and its uncertainty at one of the inputs.  You can decide to change your set of parameters and rebuild your emulator.\n",
        "\n"
      ],
      "metadata": {
        "id": "W8bVcmqih7m1"
      },
      "execution_count": null,
      "outputs": []
    },
    {
      "cell_type": "markdown",
      "source": [
        "### **What does the prior look like?**\n",
        "\n",
        "The prior is your choice, given any knowledge you have about the parameters.\n",
        "\n",
        "For example, suppose the drag coefficient and the gravitational constant are both more likely to be in the middle of the parameter space, and less likely to be close to the boundary."
      ],
      "metadata": {
        "id": "sU59F8uDSS5l"
      }
    },
    {
      "cell_type": "code",
      "source": [
        "#@title **Prior definition**\n",
        "\n",
        "# useful to have scipy's statistics module\n",
        "import scipy.stats as sps\n",
        "\n",
        "# set up a prior class for the parameter\n",
        "class prior_balldrop:\n",
        "  # define the log density for the prior\n",
        "  def lpdf(theta): \n",
        "    # theta = (k, g), k in [kL, kU], g in [gL, gU]\n",
        "    return (sps.beta.logpdf((theta[:, 0] - kL)/(kU - kL), 1.5, 1.5) + \n",
        "            sps.beta.logpdf((theta[:, 1] - gL)/(gU - gL), 1.5, 1.5)).reshape((theta.shape[0], 1))  # the .reshape((n, 1)) is currently required\n",
        "  # define a random number generator according to the density\n",
        "  def rnd(n):\n",
        "    return np.vstack((sps.beta.rvs(1.5, 1.5, size=n)*(kU - kL) + kL,\n",
        "                     sps.beta.rvs(1.5, 1.5, size=n)*(gU - gL) + gL)).T"
      ],
      "metadata": {
        "id": "uraWU06MSB7l"
      },
      "execution_count": null,
      "outputs": []
    },
    {
      "cell_type": "code",
      "source": [
        "#@title plotting parameter relationship functions\n",
        "from matplotlib import gridspec\n",
        "def plot_theta_relationship(theta, bins=25):\n",
        "  heatmap, xrng, yrng = np.histogram2d(theta[:, 0], theta[:, 1], bins=bins)\n",
        "\n",
        "  extent = [xrng[0], xrng[-1], yrng[0], yrng[-1]]\n",
        "\n",
        "  plt.figure(figsize=(6, 6))\n",
        "  plt.imshow(heatmap.T, extent=extent, cmap='bone_r', aspect='auto')\n",
        "  plt.xlabel('drag coefficient, $k$')\n",
        "  plt.ylabel('gravitational constant, $g$')\n",
        "\n",
        "  plt.show()\n",
        "  \n",
        "def plot_theta_marginal(theta):  \n",
        "  fig, ax = plt.subplots(1, 2, sharey=True, figsize=(8, 4))\n",
        "  ax[0].hist(theta[:, 0], edgecolor='k')\n",
        "  ax[1].hist(theta[:, 1], edgecolor='k')\n",
        "  ax[0].set_xlabel('drag coefficient, $k$')\n",
        "  ax[1].set_xlabel('gravitational constant, $g$')\n",
        "  plt.show()"
      ],
      "metadata": {
        "id": "3d8lTq2E7EDQ"
      },
      "execution_count": null,
      "outputs": []
    },
    {
      "cell_type": "code",
      "source": [
        "#@title Visualize prior samples\n",
        "prior_samples = prior_balldrop.rnd(1000)\n",
        "\n",
        "plot_theta_marginal(prior_samples)\n",
        "plot_theta_relationship(prior_samples, bins=25)"
      ],
      "metadata": {
        "id": "DGCqhTlYSMuV"
      },
      "execution_count": null,
      "outputs": []
    },
    {
      "cell_type": "code",
      "source": [
        "#@title **Calibrate parameters with `calibrator` module**\n",
        "from surmise.calibration import calibrator"
      ],
      "metadata": {
        "id": "AFUlKfAfypiT"
      },
      "execution_count": null,
      "outputs": []
    },
    {
      "cell_type": "code",
      "source": [
        "#@title Building a calibrator\n",
        "cal_et = calibrator(emu=emu_et,\n",
        "                 y=y, \n",
        "                 x=xvec_et,\n",
        "                 thetaprior=prior_balldrop,\n",
        "                 method='directbayeswoodbury',\n",
        "                #  args={'sampler': 'LMC'},\n",
        "                 yvar=yvar,\n",
        "                 )"
      ],
      "metadata": {
        "id": "Lse5nuscU3YN"
      },
      "execution_count": null,
      "outputs": []
    },
    {
      "cell_type": "code",
      "source": [
        "# plotting aid functions\n",
        "def plot_cal_theta(cal, whichtheta):\n",
        "    fig, axs = plt.subplots(1, 3, figsize=(14, 4))\n",
        "    cal_theta = cal.theta.rnd(1000) \n",
        "    axs[0].plot(cal_theta[:, whichtheta])\n",
        "    axs[1].boxplot(cal_theta[:, whichtheta])\n",
        "    axs[2].hist(cal_theta[:, whichtheta])\n",
        "    plt.show()\n",
        "\n",
        "def plot_preds(x, cal, axs):\n",
        "    post = cal.predict(x)\n",
        "    samples = post.rnd(s = 1000)\n",
        "    for k in np.unique(x[:, 1]):\n",
        "        inds = np.where(x[:, 1] == k)[0]\n",
        "        upper = np.percentile(samples[:, inds], 97.5, axis = 0)\n",
        "        lower = np.percentile(samples[:, inds], 2.5, axis = 0)\n",
        "        axs.fill_between(x[inds, 0], lower, upper, color = 'grey', alpha=0.25)\n",
        "        axs.plot(x[inds, 0], y[inds], 'bx', markersize = 5)\n",
        "    return(axs)"
      ],
      "metadata": {
        "id": "qosEnG6-jttA"
      },
      "execution_count": null,
      "outputs": []
    },
    {
      "cell_type": "code",
      "source": [
        "#@title From the calibrator object, we can draw from the posterior.\n",
        "posttheta = cal_et.theta.rnd(1000)\n",
        "\n",
        "# posterior mean of parameters\n",
        "posttheta.mean(0)"
      ],
      "metadata": {
        "id": "-W9Ag2AyjJDO"
      },
      "execution_count": null,
      "outputs": []
    },
    {
      "cell_type": "code",
      "source": [
        "#@title Visualize the posterior samples\n",
        "plot_theta(cal_et, 0)\n",
        "plot_theta(cal_et, 1)"
      ],
      "metadata": {
        "id": "P8t5Yf0IkNWQ"
      },
      "execution_count": null,
      "outputs": []
    },
    {
      "cell_type": "code",
      "source": [
        "#@title Visualize the relationship between parameters\n",
        "plot_theta_marginal(posttheta)\n",
        "plot_theta_relationship(posttheta)"
      ],
      "metadata": {
        "id": "swOHgB_d7fuc"
      },
      "execution_count": null,
      "outputs": []
    },
    {
      "cell_type": "code",
      "source": [
        "#@title From the calibrator object, we can also predict using the calibrated parameters\n",
        "#@markdown Like `emu.predict()`, `cal.predict()` produces a prediction object\n",
        "post_pred_et = cal_et.predict(x=xvec_et)\n",
        "\n",
        "# posterior prediction samples\n",
        "post_samples = post_pred_et.rnd(1000)\n",
        "\n",
        "fig, ax = plt.subplots(1, 1)\n",
        "plot_preds(x=xvec_et, cal=cal_et, axs=ax)\n",
        "ax.set_xlabel('$t$')\n",
        "ax.set_ylabel('ball location')"
      ],
      "metadata": {
        "id": "S5If-VMEkcvN"
      },
      "execution_count": null,
      "outputs": []
    },
    {
      "cell_type": "markdown",
      "source": [
        "## **Caveat: simulation code failures**\n",
        "Modern simulation codes have grown more complicated. Some rely on parallel computing resources, others rely on numerical methods while running the code. \n",
        "\n",
        "*Imagine the following scenario:*\n",
        "\n",
        "When $k$ is very small or $g$ is very large, the simulation code becomes unstable and has some chance of failing."
      ],
      "metadata": {
        "id": "WNuEuUU7paCq"
      }
    },
    {
      "cell_type": "code",
      "source": [
        "def ball_drop_xt_fail(x, theta):\n",
        "  f = ball_drop_xt(x, theta)\n",
        "  where_thetafail = np.where((theta[:, 0] < 0.1) | (theta[:, 1] >= 30))[0]\n",
        "\n",
        "  for theta_ind in where_thetafail:\n",
        "    where_xfail = np.where(np.random.choice([0, 1], p=[0.4, 0.6], size=x.shape[0], replace=True))[0]\n",
        "    f[where_xfail, theta_ind] = np.nan  \n",
        "  return f"
      ],
      "metadata": {
        "id": "T6bNyiJrv2g-"
      },
      "execution_count": null,
      "outputs": []
    },
    {
      "cell_type": "code",
      "source": [
        "#@title Visualize code failures\n",
        "fmat_miss = ball_drop_xt_fail(xvec_et, thetavec)\n",
        "\n",
        "plt.figure(figsize=(10, 8))\n",
        "plt.imshow(fmat_miss, interpolation=None, cmap='bone')\n",
        "plt.xlabel('index of parameter ($\\\\theta$)')\n",
        "plt.ylabel('index of input ($x$)')\n",
        "plt.colorbar(location='bottom')\n",
        "plt.title('Color map of simulation code (missing values indicated by crossmarks)')\n",
        "\n",
        "# mark where the missing values are\n",
        "where_miss = np.where(np.isnan(fmat_miss))\n",
        "for k in range(where_miss[0].shape[0]): \n",
        "  plt.text(where_miss[1][k], where_miss[0][k], 'x', \n",
        "           color='maroon', fontsize=7, ha='center', va='center')"
      ],
      "metadata": {
        "id": "JWEcBC_Zx_cR"
      },
      "execution_count": null,
      "outputs": []
    },
    {
      "cell_type": "code",
      "source": [
        "#@title It doesn't hurt to try...\n",
        "emu_miss_trial = emulator(x=xvec_et, theta=thetavec, f=fmat_miss,\n",
        "                          method='PCGP',\n",
        "                          args={'warnings': True})"
      ],
      "metadata": {
        "id": "BAZQyxuDQaDg"
      },
      "execution_count": null,
      "outputs": []
    },
    {
      "cell_type": "markdown",
      "source": [
        "### **What can we do about the missing values?**\n",
        "\n",
        "*Note:* If we want to use the PCGP method, any parameter that has at least 1 missing value cannot be used, because of the $\\boldsymbol f(\\theta) \\approx \\Phi \\boldsymbol g(\\theta)$ relationship. If the size of the data is small, like in this example, we probably don't need PCGP at all. But imagine many inputs, many parameters, losing the path to use PCGP can be quite costly.\n",
        "\n",
        "*Hint:* Recall the introduction by Professor Sürer.. \n",
        "\n",
        "*Answer:* At the end of the notebook.."
      ],
      "metadata": {
        "id": "lz8cN1nxNtO9"
      }
    },
    {
      "cell_type": "code",
      "source": [
        "#@title Build an emulator with missing values (PCGPwMissingness)\n"
      ],
      "metadata": {
        "id": "BrpEnVBJFzD0"
      },
      "execution_count": null,
      "outputs": []
    },
    {
      "cell_type": "code",
      "source": [
        "#@title **(Exercise)** Calibrate with this new emulator\n"
      ],
      "metadata": {
        "id": "eY5V4MjSRMMP"
      },
      "execution_count": null,
      "outputs": []
    },
    {
      "cell_type": "code",
      "source": [
        "#@title **(Exercise)** Visualize the posterior samples"
      ],
      "metadata": {
        "id": "Io35Aj_PRmTG"
      },
      "execution_count": null,
      "outputs": []
    },
    {
      "cell_type": "code",
      "source": [
        "#@title **(Exercise)** Visualize the prediction with calibrated parameters\n"
      ],
      "metadata": {
        "id": "M7x1YWcSR1bd"
      },
      "execution_count": null,
      "outputs": []
    },
    {
      "cell_type": "markdown",
      "source": [
        "---\n",
        "\n",
        "## Final notes\n",
        "\n",
        "Let me invite you to take a look at the [`surmise` repository](https://github.com/surmising/surmise/tree/develop/surmise).  The emulation and calibration methods are called from the respective subdirectories.  \n",
        "\n",
        "Say you decide to code up an emulation method, all you need to do is to fork the repository, add your code into the `emulationmethods` subdirectory, and you can test your emulation methods **with** the available calibration methods, and vice versa. \n",
        "\n",
        "---"
      ],
      "metadata": {
        "id": "_7gW6gUTTFaG"
      }
    },
    {
      "cell_type": "markdown",
      "source": [
        "### Answer to treating missing values..\n",
        "\n",
        "[PCGPwM](https://www.tandfonline.com/doi/full/10.1080/00401706.2023.2210170)\n",
        "\n",
        "### Answer to the true generating $\\theta$..\n",
        "\n",
        "$\\theta = (0.12, 7.5)$"
      ],
      "metadata": {
        "id": "vlPQz_kFP81p"
      }
    }
  ]
}